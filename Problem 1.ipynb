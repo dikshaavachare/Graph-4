{
 "cells": [
  {
   "cell_type": "code",
   "execution_count": 1,
   "id": "2e32540b",
   "metadata": {},
   "outputs": [
    {
     "name": "stdout",
     "output_type": "stream",
     "text": [
      "BFS traversal starting from vertex 1\n",
      "1 2 3 4 5 6 7 "
     ]
    }
   ],
   "source": [
    "\n",
    "from collections import defaultdict, deque\n",
    "\n",
    "\n",
    "class Graph:\n",
    "    def __init__(self):\n",
    "        self.graph = defaultdict(list)\n",
    "\n",
    "    def add_edge(self, u, v):\n",
    "        self.graph[u].append(v)\n",
    "\n",
    "    def bfs(self, start):\n",
    "        visited = set()\n",
    "        queue = deque([start])\n",
    "        visited.add(start)\n",
    "\n",
    "        while queue:\n",
    "            vertex = queue.popleft()\n",
    "            print(vertex, end=\" \")\n",
    "\n",
    "            for neighbor in self.graph[vertex]:\n",
    "                if neighbor not in visited:\n",
    "                    queue.append(neighbor)\n",
    "                    visited.add(neighbor)\n",
    "\n",
    "\n",
    "graph = Graph()\n",
    "graph.add_edge(1, 2)\n",
    "graph.add_edge(1, 3)\n",
    "graph.add_edge(2, 4)\n",
    "graph.add_edge(2, 5)\n",
    "graph.add_edge(3, 6)\n",
    "graph.add_edge(3, 7)\n",
    "\n",
    "start_vertex = 1\n",
    "print(\"BFS traversal starting from vertex\", start_vertex)\n",
    "graph.bfs(start_vertex)\n"
   ]
  },
  {
   "cell_type": "code",
   "execution_count": null,
   "id": "0b057f75",
   "metadata": {},
   "outputs": [],
   "source": []
  }
 ],
 "metadata": {
  "kernelspec": {
   "display_name": "Python 3 (ipykernel)",
   "language": "python",
   "name": "python3"
  },
  "language_info": {
   "codemirror_mode": {
    "name": "ipython",
    "version": 3
   },
   "file_extension": ".py",
   "mimetype": "text/x-python",
   "name": "python",
   "nbconvert_exporter": "python",
   "pygments_lexer": "ipython3",
   "version": "3.11.4"
  }
 },
 "nbformat": 4,
 "nbformat_minor": 5
}
