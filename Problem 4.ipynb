{
 "cells": [
  {
   "cell_type": "code",
   "execution_count": null,
   "id": "b4874666",
   "metadata": {},
   "outputs": [],
   "source": [
    "from collections import defaultdict\n",
    "\n",
    "\n",
    "class Graph:\n",
    "    def __init__(self):\n",
    "        self.graph = defaultdict(list)\n",
    "\n",
    "    def add_edge(self, u, v):\n",
    "        self.graph[u].append(v)\n",
    "        self.graph[v].append(u)\n",
    "\n",
    "    def dfs(self, v, visited):\n",
    "        visited[v] = True\n",
    "        for neighbor in self.graph[v]:\n",
    "            if not visited[neighbor]:\n",
    "                self.dfs(neighbor, visited)\n",
    "\n",
    "    def count_trees(self):\n",
    "        visited = {v: False for v in self.graph}\n",
    "        count = 0\n",
    "        for v in self.graph:\n",
    "            if not visited[v]:\n",
    "                self.dfs(v, visited)\n",
    "                count += 1\n",
    "        return count\n",
    "\n",
    "\n",
    "forest = Graph()\n",
    "forest.add_edge(1, 2)\n",
    "forest.add_edge(2, 3)\n",
    "forest.add_edge(4, 5)\n",
    "\n",
    "tree_count = forest.count_trees()\n",
    "print(\"Number of trees in the forest:\", tree_count)"
   ]
  }
 ],
 "metadata": {
  "kernelspec": {
   "display_name": "Python 3 (ipykernel)",
   "language": "python",
   "name": "python3"
  },
  "language_info": {
   "codemirror_mode": {
    "name": "ipython",
    "version": 3
   },
   "file_extension": ".py",
   "mimetype": "text/x-python",
   "name": "python",
   "nbconvert_exporter": "python",
   "pygments_lexer": "ipython3",
   "version": "3.11.4"
  }
 },
 "nbformat": 4,
 "nbformat_minor": 5
}
